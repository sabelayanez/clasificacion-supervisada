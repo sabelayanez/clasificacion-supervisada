{
 "cells": [
  {
   "cell_type": "code",
   "execution_count": null,
   "metadata": {},
   "outputs": [],
   "source": [
    "import os\n",
    "import numpy as np\n",
    "\n",
    "from sklearn.preprocessing import LabelEncoder\n",
    "from sklearn.model_selection import cross_validate\n",
    "\n",
    "import kagglehub\n",
    "\n",
    "from constants import dataset_name, opciones, CV, scoring\n",
    "from utils import cargar_imagenes, evaluar_rendimiento, save_excel_cv\n",
    "\n",
    "from modelos.RegresionLogistica import regresion_logistica\n",
    "from modelos.CNN import cnn1, cnn2\n",
    "from modelos.KNN import knn\n",
    "from modelos.ArbolDeDecision import arbol_decision, arbol_decision_vgg16, arbol_vgg16_pca\n",
    "from modelos.MobileNetV2 import train_mobilenetv2_model\n",
    "from modelos.RandomForest import random_forest, rforest_vgg16_pca, rforest_vgg16_pca_hog\n",
    "\n",
    "from tensorflow.keras.utils import to_categorical\n",
    "from modelos.MobileNetV2 import train_mobilenetv2_model\n",
    "\n",
    "import matplotlib.pyplot as plt\n",
    "\n",
    "# Descargar dataset\n",
    "path = kagglehub.dataset_download(dataset_name)\n",
    "\n",
    "# cargar train y test\n",
    "X_train_rgb, y_train = cargar_imagenes(os.path.join(path, 'flowers/flowers/flower_photos/train'), channel_mode=\"rgb\")\n",
    "X_test_rgb, y_test = cargar_imagenes(os.path.join(path, 'flowers/flowers/flower_photos/test'), channel_mode=\"rgb\")\n",
    "X_train_gray, _ = cargar_imagenes(os.path.join(path, 'flowers/flowers/flower_photos/train'), channel_mode=\"grayscale\")\n",
    "X_test_gray, _ = cargar_imagenes(os.path.join(path, 'flowers/flowers/flower_photos/test'), channel_mode=\"grayscale\")\n",
    "X_train_rgb_64, _ = cargar_imagenes(os.path.join(path, 'flowers/flowers/flower_photos/train'), target_size=(64, 64))\n",
    "X_test_rgb_64, _ = cargar_imagenes(os.path.join(path, 'flowers/flowers/flower_photos/test'), target_size=(64, 64))\n",
    "\n",
    "# Codificar etiquetas\n",
    "label_encoder = LabelEncoder()\n",
    "y_train_encoded = label_encoder.fit_transform(y_train)\n",
    "y_test_encoded = label_encoder.transform(y_test)\n",
    "\n",
    "epochs = 100\n",
    "batch_size = 100\n",
    "history = []\n"
   ]
  },
  {
   "cell_type": "code",
   "execution_count": null,
   "metadata": {},
   "outputs": [],
   "source": [
    "## si es regresión logística rgb ##\n",
    "modelLR_rgb, scoresLR_rgb = regresion_logistica(X_train_rgb, y_train_encoded)\n",
    "save_excel_cv(scoresLR_rgb, \"Regresión Logística RGB\")"
   ]
  },
  {
   "cell_type": "code",
   "execution_count": null,
   "metadata": {},
   "outputs": [],
   "source": [
    "## si es regresión logística gray ##\n",
    "modelLR_gray, scoresLR_gray = regresion_logistica(X_train_gray, y_train_encoded, X_test_gray, y_test_encoded)\n",
    "save_excel_cv(scoresLR_gray, \"Regresión Logística gray\")\n"
   ]
  },
  {
   "cell_type": "code",
   "execution_count": null,
   "metadata": {},
   "outputs": [],
   "source": [
    "## si es CNN1 ##\n",
    "model1 = cnn1()\n",
    "model1.summary()\n",
    "\n",
    "history.append(model1.fit(X_train_rgb_64, y_train_encoded,\n",
    "                    epochs=epochs,\n",
    "                    batch_size=batch_size,\n",
    "                    validation_data=(X_test_rgb_64, y_test_encoded)))"
   ]
  },
  {
   "cell_type": "code",
   "execution_count": null,
   "metadata": {},
   "outputs": [],
   "source": [
    "## si es CNN2 ##    \n",
    "model2 = cnn2()\n",
    "model2.summary()\n",
    "\n",
    "history.append(model2.fit(X_train_rgb_64, y_train_encoded,\n",
    "                epochs=epochs,\n",
    "                batch_size=batch_size,\n",
    "                validation_data=(X_test_rgb_64, y_test_encoded)))"
   ]
  },
  {
   "cell_type": "code",
   "execution_count": null,
   "metadata": {},
   "outputs": [],
   "source": [
    "## KNN ## \n",
    "_, _, scoresKNN = knn(X_train_rgb, y_train_encoded, X_test_rgb, y_test_encoded)\n",
    "\n",
    "save_excel_cv(scoresKNN, \"KNN\")"
   ]
  },
  {
   "cell_type": "code",
   "execution_count": null,
   "metadata": {},
   "outputs": [],
   "source": [
    "model_tree = arbol_decision(X_train_rgb_64, y_train_encoded)\n",
    "evaluar_rendimiento(model_tree, X_test_rgb_64, y_test, \"Árbol de Decisión\")"
   ]
  },
  {
   "cell_type": "code",
   "execution_count": null,
   "metadata": {},
   "outputs": [],
   "source": [
    "model_tree = arbol_decision_vgg16(X_train_rgb_64, y_train_encoded)\n",
    "evaluar_rendimiento(model_tree, X_test_rgb_64, y_test, \"Árbol de Decisión VGG16\")\n"
   ]
  },
  {
   "cell_type": "code",
   "execution_count": null,
   "metadata": {},
   "outputs": [],
   "source": [
    "model_tree = arbol_vgg16_pca(X_train_rgb_64, y_train_encoded)\n",
    "# Evaluar el modelo con las funciones definidas previamente\n",
    "evaluar_rendimiento(model_tree, X_test_rgb_64, y_test, \"Árbol de Decisión VGG16 PCA\")"
   ]
  },
  {
   "cell_type": "code",
   "execution_count": null,
   "metadata": {},
   "outputs": [],
   "source": [
    "num_classes = len(np.unique(y_train_encoded))  # Asegurar que tenemos el número correcto de clases\n",
    "y_train_onehot = to_categorical(y_train_encoded, num_classes)\n",
    "y_test_onehot = to_categorical(y_test_encoded, num_classes)\n",
    "\n",
    "# Llamada a la función de entrenamiento\n",
    "model_1 = train_mobilenetv2_model(X_train_rgb, y_train_onehot, X_test_rgb, y_test_onehot, epochs=10, batch_size=32, dense_units=1024, dropout_rate=0.5, learning_rate=0.001)\n",
    "model_2 = train_mobilenetv2_model(X_train_rgb_64, y_train_onehot, X_test_rgb_64, y_test_onehot, input_shape=(64, 64, 3), epochs=10, batch_size=32, dense_units=1024, dropout_rate=0.5, learning_rate=0.001)\n",
    "model_3 = train_mobilenetv2_model(X_train_rgb_64, y_train_onehot, X_test_rgb_64, y_test_onehot, input_shape=(64, 64, 3),epochs=10, batch_size=32, dense_units=1024, dropout_rate=0.5, learning_rate=0.0001)\n",
    "model_4 = train_mobilenetv2_model(X_train_rgb_64, y_train_onehot, X_test_rgb_64, y_test_onehot, input_shape=(64, 64, 3),epochs=10, batch_size=32, dense_units=1024, dropout_rate=0.3, learning_rate=0.001)"
   ]
  },
  {
   "cell_type": "code",
   "execution_count": null,
   "metadata": {},
   "outputs": [],
   "source": [
    "modelRF, scoresRF = random_forest(X_train_rgb_64, y_train, X_test_rgb_64)\n",
    "save_excel_cv(scoresRF, \"RANDOM FOREST\")"
   ]
  },
  {
   "cell_type": "code",
   "execution_count": null,
   "metadata": {},
   "outputs": [],
   "source": [
    "rf_model, scoresRF = rforest_vgg16_pca(X_train_rgb, y_train, X_test_rgb)        \n",
    "save_excel_cv(scoresRF, \"RANDOM FOREST VGG16 PCA\")"
   ]
  },
  {
   "cell_type": "code",
   "execution_count": null,
   "metadata": {},
   "outputs": [],
   "source": [
    "rf_model = rforest_vgg16_pca_hog(X_train_rgb_64, y_train, X_test_rgb_64)"
   ]
  },
  {
   "cell_type": "code",
   "execution_count": null,
   "metadata": {},
   "outputs": [],
   "source": [
    "## diagrama de cajas validación cru\n",
    "data = [scoresLR_rgb['test_accuracy'], scoresLR_gray['test_accuracy'], scoresKNN['test_accuracy']]\n",
    "_, ax = plt.subplots()\n",
    "ax.set_title('Modelos')\n",
    "ax.boxplot(data,labels=['LR_RGB','LR_GRAY','KNN'])"
   ]
  }
 ],
 "metadata": {
  "kernelspec": {
   "display_name": "Python 3",
   "language": "python",
   "name": "python3"
  },
  "language_info": {
   "name": "python",
   "version": "3.10.11"
  }
 },
 "nbformat": 4,
 "nbformat_minor": 2
}
